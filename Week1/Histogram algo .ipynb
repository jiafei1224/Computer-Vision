{
 "cells": [
  {
   "cell_type": "code",
   "execution_count": 1,
   "metadata": {},
   "outputs": [
    {
     "name": "stdout",
     "output_type": "stream",
     "text": [
      "Requirement already satisfied: opencv-python in c:\\users\\duanj\\anaconda3\\lib\\site-packages (4.3.0.36)\n",
      "Requirement already satisfied: numpy>=1.14.5 in c:\\users\\duanj\\anaconda3\\lib\\site-packages (from opencv-python) (1.18.1)\n"
     ]
    }
   ],
   "source": [
    "!pip install opencv-python"
   ]
  },
  {
   "cell_type": "code",
   "execution_count": 2,
   "metadata": {},
   "outputs": [
    {
     "data": {
      "image/png": "[encoded data removed]",
      "text/plain": [
       "<Figure size 432x288 with 1 Axes>"
      ]
     },
     "metadata": {
      "needs_background": "light"
     },
     "output_type": "display_data"
    },
    {
     "name": "stdout",
     "output_type": "stream",
     "text": [
      "1966\n",
      "1966\n"
     ]
    },
    {
     "data": {
      "image/png": "[encoded data removed]",
      "text/plain": [
       "<Figure size 432x288 with 1 Axes>"
      ]
     },
     "metadata": {
      "needs_background": "light"
     },
     "output_type": "display_data"
    }
   ],
   "source": [
    "import cv2\n",
    "import os\n",
    "import numpy as np\n",
    "import matplotlib.pyplot as plt\n",
    "\n",
    "original_img=cv2.imread(\"lena.jpg\")\n",
    "\n",
    "gray_img = cv2.cvtColor(original_img, cv2.COLOR_BGR2GRAY)\n",
    "\n",
    "# Display the original histogram\n",
    "img_size = gray_img.shape\n",
    "heights = img_size[0]\n",
    "widths = img_size[1]\n",
    "\n",
    "store = np.zeros((256,),dtype=np.int32)\n",
    "saved = np.zeros((256,),dtype=np.int32)\n",
    "for i in range(heights):\n",
    "    for j in range(widths):\n",
    "       k = gray_img[i,j]\n",
    "       store[k] += 1\n",
    "x = np.arange(0,256)\n",
    "plt.bar(x,store,color=\"gray\",align=\"center\")\n",
    "plt.show()\n",
    "\n",
    "# Define the size of filter\n",
    "size = 7\n",
    "\n",
    "# Add the padding around the image\n",
    "padding = np.around(size // 2)\n",
    "gray_img = cv2.copyMakeBorder(gray_img, padding, padding, padding, padding, cv2.BORDER_REPLICATE)\n",
    "\n",
    "# Get the new image size\n",
    "shape=gray_img.shape\n",
    "height_new=shape[0]\n",
    "width_new=shape[1]\n",
    "\n",
    "print(height_new)\n",
    "print(width_new)\n",
    "\n",
    "# Define the matrix for store and saved the cumulative distribution function\n",
    "store = np.zeros((256,),dtype=np.int32)\n",
    "saved = np.zeros((256,),dtype=np.int32)\n",
    "\n",
    "# Copy the original image, used to display the new result\n",
    "gray_img_copy = gray_img.copy()\n",
    "\n",
    "# Looping for the entire image\n",
    "for a in range(3,height_new-2):\n",
    "    for b in range(3, width_new-2):\n",
    "        # Looping for the entire window size\n",
    "        for c in range(a-3, a+3):\n",
    "            for d in range(b-3, b+3):\n",
    "                # Get the pixel value in the current pixel position\n",
    "                k = gray_img[c, d]\n",
    "                store[k] += 1\n",
    "\n",
    "        # Perform the cumulative distribution function        \n",
    "        sum_hist = np.cumsum(store)\n",
    "\n",
    "        # Get the new pixel value from the cumulative distribution\n",
    "        for x in range(0, 256):\n",
    "            saved[x] = sum_hist[x] * 255 / sum_hist[255]\n",
    "\n",
    "        # Write new pixel value into the copied image  \n",
    "        k = gray_img[a, b]\n",
    "        gray_img_copy[a, b] = saved[k]\n",
    "\n",
    "        # Reset the stored value\n",
    "        sum_hist = np.zeros((256,),dtype=np.int32)\n",
    "        saved = np.zeros((256,),dtype=np.int32)\n",
    "        store = np.zeros((256,),dtype=np.int32)\n",
    "\n",
    "# Show and save the result\n",
    "# Display the original histogram\n",
    "store = np.zeros((256,),dtype=np.int32)\n",
    "saved = np.zeros((256,),dtype=np.int32)\n",
    "for i in range(height_new):\n",
    "    for j in range(width_new):\n",
    "       k = gray_img_copy[i,j]\n",
    "       store[k] += 1\n",
    "x = np.arange(0,256)\n",
    "plt.bar(x,store,color=\"gray\",align=\"center\")\n",
    "plt.show()\n",
    "\n",
    "cv2.imshow('Display the result', gray_img_copy)\n",
    "cv2.imwrite(\"result_local.jpg\", gray_img_copy)\n",
    "cv2.waitKey(0)\n",
    "cv2.destroyAllWindows()"
   ]
  }
 ],
 "metadata": {
  "kernelspec": {
   "display_name": "Python 3",
   "language": "python",
   "name": "python3"
  },
  "language_info": {
   "codemirror_mode": {
    "name": "ipython",
    "version": 3
   },
   "file_extension": ".py",
   "mimetype": "text/x-python",
   "name": "python",
   "nbconvert_exporter": "python",
   "pygments_lexer": "ipython3",
   "version": "3.7.6"
  }
 },
 "nbformat": 4,
 "nbformat_minor": 4
}
